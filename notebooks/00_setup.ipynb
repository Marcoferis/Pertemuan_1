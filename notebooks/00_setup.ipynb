{
 "cells": [
  {
   "cell_type": "markdown",
   "metadata": {},
   "source": [
    "# Modul 1: Verifikasi Lingkungan dan Uji Coba Mini NLP"
   ]
  },
  {
   "cell_type": "markdown",
   "metadata": {},
   "source": [
    "## 1. Verifikasi Versi Pustaka\n",
    "\n",
    "Sel ini akan mengimpor semua pustaka yang diperlukan dan mencetak versinya untuk memastikan lingkungan telah diatur dengan benar."
   ]
  },
  {
   "cell_type": "code",
   "execution_count": null,
   "metadata": {},
   "outputs": [],
   "source": [
    "import sys\n",
    "import nltk\n",
    "import spacy\n",
    "import sklearn\n",
    "import matplotlib\n",
    "\n",
    "print(f\"Versi Python: {sys.version}\")\n",
    "print(f\"Versi NLTK: {nltk.__version__}\")\n",
    "print(f\"Versi spaCy: {spacy.__version__}\")\n",
    "print(f\"Versi Scikit-Learn: {sklearn.__version__}\")\n",
    "print(f\"Versi Matplotlib: {matplotlib.__version__}\")"
   ]
  },
  {
   "cell_type": "markdown",
   "metadata": {},
   "source": [
    "## 2. Uji Coba Tokenisasi dengan NLTK\n",
    "\n",
    "Sekarang, kita akan melakukan tokenisasi kalimat sederhana menggunakan NLTK. Pertama, kita perlu mengunduh model `punkt` yang diperlukan untuk tokenisasi."
   ]
  },
  {
   "cell_type": "code",
   "execution_count": null,
   "metadata": {},
   "outputs": [],
   "source": [
    "nltk.download('punkt')\n",
    "kalimat = \"NLP adalah cabang ilmu komputer yang sangat menarik.\"\n",
    "tokens_nltk = nltk.word_tokenize(kalimat)\n",
    "\n",
    "print(\"Kalimat Asli:\", kalimat)\n",
    "print(\"Hasil Tokenisasi NLTK:\", tokens_nltk)"
   ]
  },
  {
   "cell_type": "markdown",
   "metadata": {},
   "source": [
    "## 3. Uji Coba Tokenisasi dengan spaCy\n",
    "\n",
    "Selanjutnya, kita akan melakukan tokenisasi dengan spaCy. Karena spaCy tidak memiliki model pra-terlatih resmi untuk Bahasa Indonesia, kita akan menggunakan objek bahasa kosong (`spacy.blank(\\\"id\\\")`) yang sudah mendukung aturan tokenisasi dasar untuk bahasa ini."
   ]
  },
  {
   "cell_type": "code",
   "execution_count": null,
   "metadata": {},
   "outputs": [],
   "source": [
    "nlp = spacy.blank(\"id\")\n",
    "doc = nlp(kalimat)\n",
    "tokens_spacy = [token.text for token in doc]\n",
    "\n",
    "print(\"Kalimat Asli:\", kalimat)\n",
    "print(\"Hasil Tokenisasi spaCy:\", tokens_spacy)"
   ]
  },
  {
   "cell_type": "markdown",
   "metadata": {},
   "source": [
    "## 4. (Opsional) Verifikasi Matplotlib\n",
    "\n",
    "Terakhir, kita buat sebuah plot sederhana untuk memastikan `matplotlib` terintegrasi dengan baik di dalam notebook."
   ]
  },
  {
   "cell_type": "code",
   "execution_count": null,
   "metadata": {},
   "outputs": [],
   "source": [
    "import matplotlib.pyplot as plt\n",
    "\n",
    "x = [i for i in range(len(tokens_spacy))]\n",
    "y = [len(token) for token in tokens_spacy]\n",
    "\n",
    "plt.figure(figsize=(10, 5))\n",
    "plt.bar(x, y)\n",
    "plt.xticks(x, tokens_spacy, rotation=45)\n",
    "plt.title(\"Panjang Karakter per Token (spaCy)\")\n",
    "plt.ylabel(\"Jumlah Karakter\")\n",
    "plt.xlabel(\"Token\")\n",
    "plt.show()"
   ]
  }
 ],
 "metadata": {
  "kernelspec": {
   "display_name": "Python 3",
   "language": "python",
   "name": "python3"
  },
  "language_info": {
   "codemirror_mode": {
    "name": "ipython",
    "version": 3
   },
   "file_extension": ".py",
   "mimetype": "text/x-python",
   "name": "python",
   "nbconvert_exporter": "python",
   "pygments_lexer": "ipython3",
   "version": "3.10.0"
  }
 },
 "nbformat": 4,
 "nbformat_minor": 4
}